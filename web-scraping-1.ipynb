{
 "cells": [
  {
   "cell_type": "code",
   "execution_count": 62,
   "metadata": {},
   "outputs": [],
   "source": [
    "import requests\n",
    "from bs4 import BeautifulSoup\n",
    "import pandas as pd\n",
    "import re"
   ]
  },
  {
   "cell_type": "markdown",
   "metadata": {},
   "source": [
    "## Functions"
   ]
  },
  {
   "cell_type": "code",
   "execution_count": 63,
   "metadata": {},
   "outputs": [],
   "source": [
    "def get_additional_information(book_url):\n",
    "    url = f'https://books.toscrape.com/catalogue/{book_url}'\n",
    "    response = requests.get(url)\n",
    "\n",
    "    soup = BeautifulSoup(response.text, 'html.parser')\n",
    "    \n",
    "    previous_element = soup.find('div', id='product_description')\n",
    "    if previous_element:\n",
    "        book_description = previous_element.find_next('p').text\n",
    "    else:\n",
    "        book_description = None\n",
    "        \n",
    "    table = soup.find('table', class_='table table-striped')\n",
    "    if table:\n",
    "        book_availability = table.find_all('tr')[5].text\n",
    "    else:\n",
    "        book_availability = None\n",
    "\n",
    "    return [book_description, book_availability]\n"
   ]
  },
  {
   "cell_type": "code",
   "execution_count": 64,
   "metadata": {},
   "outputs": [],
   "source": [
    "def extract_information(url):\n",
    "        response = requests.get(url)\n",
    "        \n",
    "        soup = BeautifulSoup(response.text, 'html.parser')\n",
    "\n",
    "        book_title = soup.find_all('h3')\n",
    "        book_titles_list = [title.a['title'] for title in book_title if title.a]\n",
    "\n",
    "        book_prices = soup.find_all('p', class_ = 'price_color')\n",
    "        book_prices_list = [price.text[1:] for price in book_prices]\n",
    "\n",
    "        book_in_stock = soup.find_all('p', class_='instock availability')\n",
    "        book_in_stock_list = [stock.text.strip() for stock in book_in_stock]\n",
    "\n",
    "        # Take the urls\n",
    "        book_links = soup.find_all('div', class_='image_container')\n",
    "        book_urls = [link.a['href'] for link in book_links if link.a]\n",
    "        relative_urls = [url.replace('../../../', '')for url in book_urls]\n",
    "\n",
    "\n",
    "\n",
    "        return book_titles_list, book_prices_list, book_in_stock_list, relative_urls"
   ]
  },
  {
   "cell_type": "code",
   "execution_count": 65,
   "metadata": {},
   "outputs": [],
   "source": [
    "def automatization_process(ganre, url, data_frame):\n",
    "    book_description_all = []\n",
    "    book_availability_all = []\n",
    "    title, price, stock, urls = extract_information(url)\n",
    "\n",
    "    for book in urls:\n",
    "\n",
    "        description, availability = get_additional_information(book)\n",
    "        book_description_all.append(description)\n",
    "        book_availability_all.append(availability)\n",
    "\n",
    "    for i in range(len(title)):\n",
    "        data_frame.loc[len(data_frame)] = [ganre.title(), title[i], price[i], stock[i], book_description_all[i], book_availability_all[i]]\n"
   ]
  },
  {
   "cell_type": "code",
   "execution_count": 66,
   "metadata": {},
   "outputs": [],
   "source": [
    "df = pd.DataFrame(columns=['gender', 'title', 'price', 'stock', 'description', 'availability'])"
   ]
  },
  {
   "cell_type": "code",
   "execution_count": 67,
   "metadata": {},
   "outputs": [
    {
     "data": {
      "text/html": [
       "<div>\n",
       "<style scoped>\n",
       "    .dataframe tbody tr th:only-of-type {\n",
       "        vertical-align: middle;\n",
       "    }\n",
       "\n",
       "    .dataframe tbody tr th {\n",
       "        vertical-align: top;\n",
       "    }\n",
       "\n",
       "    .dataframe thead th {\n",
       "        text-align: right;\n",
       "    }\n",
       "</style>\n",
       "<table border=\"1\" class=\"dataframe\">\n",
       "  <thead>\n",
       "    <tr style=\"text-align: right;\">\n",
       "      <th></th>\n",
       "      <th>gender</th>\n",
       "      <th>title</th>\n",
       "      <th>price</th>\n",
       "      <th>stock</th>\n",
       "      <th>description</th>\n",
       "      <th>availability</th>\n",
       "    </tr>\n",
       "  </thead>\n",
       "  <tbody>\n",
       "  </tbody>\n",
       "</table>\n",
       "</div>"
      ],
      "text/plain": [
       "Empty DataFrame\n",
       "Columns: [gender, title, price, stock, description, availability]\n",
       "Index: []"
      ]
     },
     "execution_count": 67,
     "metadata": {},
     "output_type": "execute_result"
    }
   ],
   "source": [
    "df"
   ]
  },
  {
   "cell_type": "markdown",
   "metadata": {},
   "source": [
    "## Travel Books"
   ]
  },
  {
   "cell_type": "code",
   "execution_count": 68,
   "metadata": {},
   "outputs": [],
   "source": [
    "automatization_process('Travel', 'https://books.toscrape.com/catalogue/category/books/travel_2/index.html', df)"
   ]
  },
  {
   "cell_type": "code",
   "execution_count": 69,
   "metadata": {},
   "outputs": [
    {
     "data": {
      "text/html": [
       "<div>\n",
       "<style scoped>\n",
       "    .dataframe tbody tr th:only-of-type {\n",
       "        vertical-align: middle;\n",
       "    }\n",
       "\n",
       "    .dataframe tbody tr th {\n",
       "        vertical-align: top;\n",
       "    }\n",
       "\n",
       "    .dataframe thead th {\n",
       "        text-align: right;\n",
       "    }\n",
       "</style>\n",
       "<table border=\"1\" class=\"dataframe\">\n",
       "  <thead>\n",
       "    <tr style=\"text-align: right;\">\n",
       "      <th></th>\n",
       "      <th>gender</th>\n",
       "      <th>title</th>\n",
       "      <th>price</th>\n",
       "      <th>stock</th>\n",
       "      <th>description</th>\n",
       "      <th>availability</th>\n",
       "    </tr>\n",
       "  </thead>\n",
       "  <tbody>\n",
       "    <tr>\n",
       "      <th>0</th>\n",
       "      <td>Travel</td>\n",
       "      <td>It's Only the Himalayas</td>\n",
       "      <td>£45.17</td>\n",
       "      <td>In stock</td>\n",
       "      <td>âWherever you go, whatever you do, just . . ...</td>\n",
       "      <td>\\nAvailability\\nIn stock (19 available)\\n</td>\n",
       "    </tr>\n",
       "    <tr>\n",
       "      <th>1</th>\n",
       "      <td>Travel</td>\n",
       "      <td>Full Moon over Noahâs Ark: An Odyssey to Mou...</td>\n",
       "      <td>£49.43</td>\n",
       "      <td>In stock</td>\n",
       "      <td>Acclaimed travel writer Rick Antonson sets his...</td>\n",
       "      <td>\\nAvailability\\nIn stock (15 available)\\n</td>\n",
       "    </tr>\n",
       "    <tr>\n",
       "      <th>2</th>\n",
       "      <td>Travel</td>\n",
       "      <td>See America: A Celebration of Our National Par...</td>\n",
       "      <td>£48.87</td>\n",
       "      <td>In stock</td>\n",
       "      <td>To coincide with the 2016 centennial anniversa...</td>\n",
       "      <td>\\nAvailability\\nIn stock (14 available)\\n</td>\n",
       "    </tr>\n",
       "    <tr>\n",
       "      <th>3</th>\n",
       "      <td>Travel</td>\n",
       "      <td>Vagabonding: An Uncommon Guide to the Art of L...</td>\n",
       "      <td>£36.94</td>\n",
       "      <td>In stock</td>\n",
       "      <td>With a new foreword by Tim Ferriss â¢Thereâ...</td>\n",
       "      <td>\\nAvailability\\nIn stock (8 available)\\n</td>\n",
       "    </tr>\n",
       "    <tr>\n",
       "      <th>4</th>\n",
       "      <td>Travel</td>\n",
       "      <td>Under the Tuscan Sun</td>\n",
       "      <td>£37.33</td>\n",
       "      <td>In stock</td>\n",
       "      <td>A CLASSIC FROM THE BESTSELLING AUTHOR OF UNDER...</td>\n",
       "      <td>\\nAvailability\\nIn stock (7 available)\\n</td>\n",
       "    </tr>\n",
       "    <tr>\n",
       "      <th>5</th>\n",
       "      <td>Travel</td>\n",
       "      <td>A Summer In Europe</td>\n",
       "      <td>£44.34</td>\n",
       "      <td>In stock</td>\n",
       "      <td>On her thirtieth birthday, Gwendolyn Reese rec...</td>\n",
       "      <td>\\nAvailability\\nIn stock (7 available)\\n</td>\n",
       "    </tr>\n",
       "    <tr>\n",
       "      <th>6</th>\n",
       "      <td>Travel</td>\n",
       "      <td>The Great Railway Bazaar</td>\n",
       "      <td>£30.54</td>\n",
       "      <td>In stock</td>\n",
       "      <td>First published more than thirty years ago, Pa...</td>\n",
       "      <td>\\nAvailability\\nIn stock (6 available)\\n</td>\n",
       "    </tr>\n",
       "    <tr>\n",
       "      <th>7</th>\n",
       "      <td>Travel</td>\n",
       "      <td>A Year in Provence (Provence #1)</td>\n",
       "      <td>£56.88</td>\n",
       "      <td>In stock</td>\n",
       "      <td>National BestsellerIn this witty and warm-hear...</td>\n",
       "      <td>\\nAvailability\\nIn stock (6 available)\\n</td>\n",
       "    </tr>\n",
       "    <tr>\n",
       "      <th>8</th>\n",
       "      <td>Travel</td>\n",
       "      <td>The Road to Little Dribbling: Adventures of an...</td>\n",
       "      <td>£23.21</td>\n",
       "      <td>In stock</td>\n",
       "      <td>The hilarious and loving sequel to a hilarious...</td>\n",
       "      <td>\\nAvailability\\nIn stock (3 available)\\n</td>\n",
       "    </tr>\n",
       "    <tr>\n",
       "      <th>9</th>\n",
       "      <td>Travel</td>\n",
       "      <td>Neither Here nor There: Travels in Europe</td>\n",
       "      <td>£38.95</td>\n",
       "      <td>In stock</td>\n",
       "      <td>Bill Bryson's first travel book, The Lost Cont...</td>\n",
       "      <td>\\nAvailability\\nIn stock (3 available)\\n</td>\n",
       "    </tr>\n",
       "    <tr>\n",
       "      <th>10</th>\n",
       "      <td>Travel</td>\n",
       "      <td>1,000 Places to See Before You Die</td>\n",
       "      <td>£26.08</td>\n",
       "      <td>In stock</td>\n",
       "      <td>Around the World, continent by continent, here...</td>\n",
       "      <td>\\nAvailability\\nIn stock (1 available)\\n</td>\n",
       "    </tr>\n",
       "  </tbody>\n",
       "</table>\n",
       "</div>"
      ],
      "text/plain": [
       "    gender                                              title   price  \\\n",
       "0   Travel                            It's Only the Himalayas  £45.17   \n",
       "1   Travel  Full Moon over Noahâs Ark: An Odyssey to Mou...  £49.43   \n",
       "2   Travel  See America: A Celebration of Our National Par...  £48.87   \n",
       "3   Travel  Vagabonding: An Uncommon Guide to the Art of L...  £36.94   \n",
       "4   Travel                               Under the Tuscan Sun  £37.33   \n",
       "5   Travel                                 A Summer In Europe  £44.34   \n",
       "6   Travel                           The Great Railway Bazaar  £30.54   \n",
       "7   Travel                   A Year in Provence (Provence #1)  £56.88   \n",
       "8   Travel  The Road to Little Dribbling: Adventures of an...  £23.21   \n",
       "9   Travel          Neither Here nor There: Travels in Europe  £38.95   \n",
       "10  Travel                 1,000 Places to See Before You Die  £26.08   \n",
       "\n",
       "       stock                                        description  \\\n",
       "0   In stock  âWherever you go, whatever you do, just . . ...   \n",
       "1   In stock  Acclaimed travel writer Rick Antonson sets his...   \n",
       "2   In stock  To coincide with the 2016 centennial anniversa...   \n",
       "3   In stock  With a new foreword by Tim Ferriss â¢Thereâ...   \n",
       "4   In stock  A CLASSIC FROM THE BESTSELLING AUTHOR OF UNDER...   \n",
       "5   In stock  On her thirtieth birthday, Gwendolyn Reese rec...   \n",
       "6   In stock  First published more than thirty years ago, Pa...   \n",
       "7   In stock  National BestsellerIn this witty and warm-hear...   \n",
       "8   In stock  The hilarious and loving sequel to a hilarious...   \n",
       "9   In stock  Bill Bryson's first travel book, The Lost Cont...   \n",
       "10  In stock  Around the World, continent by continent, here...   \n",
       "\n",
       "                                 availability  \n",
       "0   \\nAvailability\\nIn stock (19 available)\\n  \n",
       "1   \\nAvailability\\nIn stock (15 available)\\n  \n",
       "2   \\nAvailability\\nIn stock (14 available)\\n  \n",
       "3    \\nAvailability\\nIn stock (8 available)\\n  \n",
       "4    \\nAvailability\\nIn stock (7 available)\\n  \n",
       "5    \\nAvailability\\nIn stock (7 available)\\n  \n",
       "6    \\nAvailability\\nIn stock (6 available)\\n  \n",
       "7    \\nAvailability\\nIn stock (6 available)\\n  \n",
       "8    \\nAvailability\\nIn stock (3 available)\\n  \n",
       "9    \\nAvailability\\nIn stock (3 available)\\n  \n",
       "10   \\nAvailability\\nIn stock (1 available)\\n  "
      ]
     },
     "execution_count": 69,
     "metadata": {},
     "output_type": "execute_result"
    }
   ],
   "source": [
    "df"
   ]
  },
  {
   "cell_type": "markdown",
   "metadata": {},
   "source": [
    "## Mystery Books"
   ]
  },
  {
   "cell_type": "code",
   "execution_count": 73,
   "metadata": {},
   "outputs": [],
   "source": [
    "n=2\n",
    "for i in range(1, n+1):\n",
    "    url = f'https://books.toscrape.com/catalogue/category/books/mystery_3/page-{i}.html'\n",
    "    automatization_process('Mystery', url, df)"
   ]
  },
  {
   "cell_type": "markdown",
   "metadata": {},
   "source": [
    "## Historical Books"
   ]
  },
  {
   "cell_type": "code",
   "execution_count": 75,
   "metadata": {},
   "outputs": [],
   "source": [
    "n=2\n",
    "for i in range(1, n+1):\n",
    "    url = f'https://books.toscrape.com/catalogue/category/books/historical-fiction_4/page-{i}.html'\n",
    "    automatization_process('Historical', url, df)"
   ]
  },
  {
   "cell_type": "markdown",
   "metadata": {},
   "source": [
    "## Sequential Art Books"
   ]
  },
  {
   "cell_type": "code",
   "execution_count": 77,
   "metadata": {},
   "outputs": [],
   "source": [
    "n=4\n",
    "for i in range(1, n+1):\n",
    "    url = f'https://books.toscrape.com/catalogue/category/books/sequential-art_5/page-{i}.html'\n",
    "    automatization_process('Art', url, df)"
   ]
  },
  {
   "cell_type": "code",
   "execution_count": 84,
   "metadata": {},
   "outputs": [
    {
     "data": {
      "text/plain": [
       "75"
      ]
     },
     "execution_count": 84,
     "metadata": {},
     "output_type": "execute_result"
    }
   ],
   "source": [
    "len(df[df['gender'] == 'Art'])"
   ]
  },
  {
   "cell_type": "markdown",
   "metadata": {},
   "source": [
    "## Classics Books"
   ]
  },
  {
   "cell_type": "code",
   "execution_count": 81,
   "metadata": {},
   "outputs": [],
   "source": [
    "automatization_process('Classics', 'https://books.toscrape.com/catalogue/category/books/classics_6/index.html', df)"
   ]
  },
  {
   "cell_type": "code",
   "execution_count": 83,
   "metadata": {},
   "outputs": [
    {
     "data": {
      "text/plain": [
       "19"
      ]
     },
     "execution_count": 83,
     "metadata": {},
     "output_type": "execute_result"
    }
   ],
   "source": [
    "len(df[df['gender'] == 'Classics'])"
   ]
  },
  {
   "cell_type": "markdown",
   "metadata": {},
   "source": [
    "## Philosophy Books"
   ]
  },
  {
   "cell_type": "code",
   "execution_count": 85,
   "metadata": {},
   "outputs": [],
   "source": [
    "automatization_process('Philosophy', 'https://books.toscrape.com/catalogue/category/books/philosophy_7/index.html', df)"
   ]
  },
  {
   "cell_type": "code",
   "execution_count": 86,
   "metadata": {},
   "outputs": [
    {
     "data": {
      "text/plain": [
       "11"
      ]
     },
     "execution_count": 86,
     "metadata": {},
     "output_type": "execute_result"
    }
   ],
   "source": [
    "len(df[df['gender'] == 'Philosophy'])"
   ]
  },
  {
   "cell_type": "markdown",
   "metadata": {},
   "source": [
    "## Romance Books"
   ]
  },
  {
   "cell_type": "code",
   "execution_count": 88,
   "metadata": {},
   "outputs": [],
   "source": [
    "n = 2 \n",
    "for i in range(1, n+1):\n",
    "    url = f'https://books.toscrape.com/catalogue/category/books/romance_8/page-{i}.html'\n",
    "    automatization_process('Romance', url, df)"
   ]
  },
  {
   "cell_type": "code",
   "execution_count": 89,
   "metadata": {},
   "outputs": [
    {
     "data": {
      "text/plain": [
       "35"
      ]
     },
     "execution_count": 89,
     "metadata": {},
     "output_type": "execute_result"
    }
   ],
   "source": [
    "len(df[df['gender'] == 'Romance'])"
   ]
  },
  {
   "cell_type": "markdown",
   "metadata": {},
   "source": [
    "## Womens Fiction Books"
   ]
  },
  {
   "cell_type": "code",
   "execution_count": 90,
   "metadata": {},
   "outputs": [],
   "source": [
    "automatization_process('Womens Fiction', 'https://books.toscrape.com/catalogue/category/books/womens-fiction_9/index.html', df)"
   ]
  },
  {
   "cell_type": "code",
   "execution_count": 91,
   "metadata": {},
   "outputs": [
    {
     "data": {
      "text/plain": [
       "17"
      ]
     },
     "execution_count": 91,
     "metadata": {},
     "output_type": "execute_result"
    }
   ],
   "source": [
    "len(df[df['gender'] == 'Womens Fiction'])"
   ]
  },
  {
   "cell_type": "markdown",
   "metadata": {},
   "source": [
    "## Fiction Books"
   ]
  },
  {
   "cell_type": "code",
   "execution_count": 92,
   "metadata": {},
   "outputs": [],
   "source": [
    "n = 4\n",
    "for i in range(1, n+1):\n",
    "    url = f'https://books.toscrape.com/catalogue/category/books/fiction_10/page-{i}.html'\n",
    "    automatization_process('Fiction', url, df)"
   ]
  },
  {
   "cell_type": "code",
   "execution_count": 93,
   "metadata": {},
   "outputs": [
    {
     "data": {
      "text/plain": [
       "65"
      ]
     },
     "execution_count": 93,
     "metadata": {},
     "output_type": "execute_result"
    }
   ],
   "source": [
    "len(df[df['gender'] == 'Fiction'])"
   ]
  },
  {
   "cell_type": "markdown",
   "metadata": {},
   "source": [
    "## Childrens Books"
   ]
  },
  {
   "cell_type": "code",
   "execution_count": 95,
   "metadata": {},
   "outputs": [],
   "source": [
    "n = 2\n",
    "for i in range(1, n+1):\n",
    "    url = f'https://books.toscrape.com/catalogue/category/books/childrens_11/page-{i}.html'\n",
    "    automatization_process('Childrens', url, df)"
   ]
  },
  {
   "cell_type": "code",
   "execution_count": 96,
   "metadata": {},
   "outputs": [
    {
     "data": {
      "text/plain": [
       "29"
      ]
     },
     "execution_count": 96,
     "metadata": {},
     "output_type": "execute_result"
    }
   ],
   "source": [
    "len(df[df['gender'] == 'Childrens'])"
   ]
  },
  {
   "cell_type": "markdown",
   "metadata": {},
   "source": [
    "## Religion Books"
   ]
  },
  {
   "cell_type": "code",
   "execution_count": 97,
   "metadata": {},
   "outputs": [],
   "source": [
    "automatization_process('Religion', 'https://books.toscrape.com/catalogue/category/books/religion_12/index.html', df)"
   ]
  },
  {
   "cell_type": "code",
   "execution_count": 98,
   "metadata": {},
   "outputs": [
    {
     "data": {
      "text/plain": [
       "7"
      ]
     },
     "execution_count": 98,
     "metadata": {},
     "output_type": "execute_result"
    }
   ],
   "source": [
    "len(df[df['gender'] == 'Religion'])"
   ]
  },
  {
   "cell_type": "markdown",
   "metadata": {},
   "source": [
    "## Nonfiction Books"
   ]
  },
  {
   "cell_type": "code",
   "execution_count": 99,
   "metadata": {},
   "outputs": [],
   "source": [
    "n = 6\n",
    "for i in range(1, n+1):\n",
    "    url = f'https://books.toscrape.com/catalogue/category/books/nonfiction_13/page-{i}.html'\n",
    "    automatization_process('Nonfiction', url, df)"
   ]
  },
  {
   "cell_type": "code",
   "execution_count": 100,
   "metadata": {},
   "outputs": [
    {
     "data": {
      "text/plain": [
       "110"
      ]
     },
     "execution_count": 100,
     "metadata": {},
     "output_type": "execute_result"
    }
   ],
   "source": [
    "len(df[df['gender'] == 'Nonfiction'])"
   ]
  },
  {
   "cell_type": "markdown",
   "metadata": {},
   "source": [
    "## Music Books"
   ]
  },
  {
   "cell_type": "code",
   "execution_count": 101,
   "metadata": {},
   "outputs": [],
   "source": [
    "automatization_process('Music', 'https://books.toscrape.com/catalogue/category/books/music_14/index.html', df)"
   ]
  },
  {
   "cell_type": "code",
   "execution_count": 102,
   "metadata": {},
   "outputs": [
    {
     "data": {
      "text/plain": [
       "13"
      ]
     },
     "execution_count": 102,
     "metadata": {},
     "output_type": "execute_result"
    }
   ],
   "source": [
    "len(df[df['gender'] == 'Music'])"
   ]
  },
  {
   "cell_type": "markdown",
   "metadata": {},
   "source": [
    "## Default Books"
   ]
  },
  {
   "cell_type": "code",
   "execution_count": 103,
   "metadata": {},
   "outputs": [],
   "source": [
    "n = 8\n",
    "for i in range(1, n+1):\n",
    "    url = f'https://books.toscrape.com/catalogue/category/books/default_15/page-{i}.html'\n",
    "    automatization_process('Default', url, df)"
   ]
  },
  {
   "cell_type": "code",
   "execution_count": 104,
   "metadata": {},
   "outputs": [
    {
     "data": {
      "text/plain": [
       "152"
      ]
     },
     "execution_count": 104,
     "metadata": {},
     "output_type": "execute_result"
    }
   ],
   "source": [
    "len(df[df['gender'] == 'Default'])"
   ]
  },
  {
   "cell_type": "markdown",
   "metadata": {},
   "source": [
    "## Science Fiction Books\n"
   ]
  },
  {
   "cell_type": "code",
   "execution_count": 105,
   "metadata": {},
   "outputs": [],
   "source": [
    "automatization_process('Science Fiction', 'https://books.toscrape.com/catalogue/category/books/science-fiction_16/index.html', df)"
   ]
  },
  {
   "cell_type": "code",
   "execution_count": 106,
   "metadata": {},
   "outputs": [
    {
     "data": {
      "text/plain": [
       "16"
      ]
     },
     "execution_count": 106,
     "metadata": {},
     "output_type": "execute_result"
    }
   ],
   "source": [
    "len(df[df['gender'] == 'Science Fiction'])"
   ]
  },
  {
   "cell_type": "markdown",
   "metadata": {},
   "source": [
    "## Sports and Games\n"
   ]
  },
  {
   "cell_type": "code",
   "execution_count": 110,
   "metadata": {},
   "outputs": [],
   "source": [
    "automatization_process('Sports and Games', 'https://books.toscrape.com/catalogue/category/books/sports-and-games_17/index.html', df)"
   ]
  },
  {
   "cell_type": "code",
   "execution_count": 113,
   "metadata": {},
   "outputs": [
    {
     "data": {
      "text/plain": [
       "10"
      ]
     },
     "execution_count": 113,
     "metadata": {},
     "output_type": "execute_result"
    }
   ],
   "source": [
    "len(df[df['gender'] == 'Sports And Games'])"
   ]
  },
  {
   "cell_type": "code",
   "execution_count": 112,
   "metadata": {},
   "outputs": [
    {
     "data": {
      "text/html": [
       "<div>\n",
       "<style scoped>\n",
       "    .dataframe tbody tr th:only-of-type {\n",
       "        vertical-align: middle;\n",
       "    }\n",
       "\n",
       "    .dataframe tbody tr th {\n",
       "        vertical-align: top;\n",
       "    }\n",
       "\n",
       "    .dataframe thead th {\n",
       "        text-align: right;\n",
       "    }\n",
       "</style>\n",
       "<table border=\"1\" class=\"dataframe\">\n",
       "  <thead>\n",
       "    <tr style=\"text-align: right;\">\n",
       "      <th></th>\n",
       "      <th>gender</th>\n",
       "      <th>title</th>\n",
       "      <th>price</th>\n",
       "      <th>stock</th>\n",
       "      <th>description</th>\n",
       "      <th>availability</th>\n",
       "    </tr>\n",
       "  </thead>\n",
       "  <tbody>\n",
       "    <tr>\n",
       "      <th>0</th>\n",
       "      <td>Travel</td>\n",
       "      <td>It's Only the Himalayas</td>\n",
       "      <td>£45.17</td>\n",
       "      <td>In stock</td>\n",
       "      <td>âWherever you go, whatever you do, just . . ...</td>\n",
       "      <td>\\nAvailability\\nIn stock (19 available)\\n</td>\n",
       "    </tr>\n",
       "    <tr>\n",
       "      <th>1</th>\n",
       "      <td>Travel</td>\n",
       "      <td>Full Moon over Noahâs Ark: An Odyssey to Mou...</td>\n",
       "      <td>£49.43</td>\n",
       "      <td>In stock</td>\n",
       "      <td>Acclaimed travel writer Rick Antonson sets his...</td>\n",
       "      <td>\\nAvailability\\nIn stock (15 available)\\n</td>\n",
       "    </tr>\n",
       "    <tr>\n",
       "      <th>2</th>\n",
       "      <td>Travel</td>\n",
       "      <td>See America: A Celebration of Our National Par...</td>\n",
       "      <td>£48.87</td>\n",
       "      <td>In stock</td>\n",
       "      <td>To coincide with the 2016 centennial anniversa...</td>\n",
       "      <td>\\nAvailability\\nIn stock (14 available)\\n</td>\n",
       "    </tr>\n",
       "    <tr>\n",
       "      <th>3</th>\n",
       "      <td>Travel</td>\n",
       "      <td>Vagabonding: An Uncommon Guide to the Art of L...</td>\n",
       "      <td>£36.94</td>\n",
       "      <td>In stock</td>\n",
       "      <td>With a new foreword by Tim Ferriss â¢Thereâ...</td>\n",
       "      <td>\\nAvailability\\nIn stock (8 available)\\n</td>\n",
       "    </tr>\n",
       "    <tr>\n",
       "      <th>4</th>\n",
       "      <td>Travel</td>\n",
       "      <td>Under the Tuscan Sun</td>\n",
       "      <td>£37.33</td>\n",
       "      <td>In stock</td>\n",
       "      <td>A CLASSIC FROM THE BESTSELLING AUTHOR OF UNDER...</td>\n",
       "      <td>\\nAvailability\\nIn stock (7 available)\\n</td>\n",
       "    </tr>\n",
       "    <tr>\n",
       "      <th>...</th>\n",
       "      <td>...</td>\n",
       "      <td>...</td>\n",
       "      <td>...</td>\n",
       "      <td>...</td>\n",
       "      <td>...</td>\n",
       "      <td>...</td>\n",
       "    </tr>\n",
       "    <tr>\n",
       "      <th>623</th>\n",
       "      <td>Sports And Games</td>\n",
       "      <td>The Book of Basketball: The NBA According to T...</td>\n",
       "      <td>£44.84</td>\n",
       "      <td>In stock</td>\n",
       "      <td>There is only one writer on the planet who pos...</td>\n",
       "      <td>\\nAvailability\\nIn stock (3 available)\\n</td>\n",
       "    </tr>\n",
       "    <tr>\n",
       "      <th>624</th>\n",
       "      <td>Sports And Games</td>\n",
       "      <td>Friday Night Lights: A Town, a Team, and a Dream</td>\n",
       "      <td>£51.22</td>\n",
       "      <td>In stock</td>\n",
       "      <td>Return once again to the enduring account of l...</td>\n",
       "      <td>\\nAvailability\\nIn stock (3 available)\\n</td>\n",
       "    </tr>\n",
       "    <tr>\n",
       "      <th>625</th>\n",
       "      <td>Sports And Games</td>\n",
       "      <td>Sugar Rush (Offensive Line #2)</td>\n",
       "      <td>£24.42</td>\n",
       "      <td>In stock</td>\n",
       "      <td>Colt Avery is on fire. Dubbed one of the NFL's...</td>\n",
       "      <td>\\nAvailability\\nIn stock (2 available)\\n</td>\n",
       "    </tr>\n",
       "    <tr>\n",
       "      <th>626</th>\n",
       "      <td>Sports And Games</td>\n",
       "      <td>Settling the Score (The Summer Games #1)</td>\n",
       "      <td>£44.91</td>\n",
       "      <td>In stock</td>\n",
       "      <td>From the USA TODAY Bestselling author of Scori...</td>\n",
       "      <td>\\nAvailability\\nIn stock (1 available)\\n</td>\n",
       "    </tr>\n",
       "    <tr>\n",
       "      <th>627</th>\n",
       "      <td>Sports And Games</td>\n",
       "      <td>Icing (Aces Hockey #2)</td>\n",
       "      <td>£40.44</td>\n",
       "      <td>In stock</td>\n",
       "      <td>Hailed by Jami Davenport as her âgo-to autho...</td>\n",
       "      <td>\\nAvailability\\nIn stock (1 available)\\n</td>\n",
       "    </tr>\n",
       "  </tbody>\n",
       "</table>\n",
       "<p>628 rows × 6 columns</p>\n",
       "</div>"
      ],
      "text/plain": [
       "               gender                                              title  \\\n",
       "0              Travel                            It's Only the Himalayas   \n",
       "1              Travel  Full Moon over Noahâs Ark: An Odyssey to Mou...   \n",
       "2              Travel  See America: A Celebration of Our National Par...   \n",
       "3              Travel  Vagabonding: An Uncommon Guide to the Art of L...   \n",
       "4              Travel                               Under the Tuscan Sun   \n",
       "..                ...                                                ...   \n",
       "623  Sports And Games  The Book of Basketball: The NBA According to T...   \n",
       "624  Sports And Games   Friday Night Lights: A Town, a Team, and a Dream   \n",
       "625  Sports And Games                     Sugar Rush (Offensive Line #2)   \n",
       "626  Sports And Games           Settling the Score (The Summer Games #1)   \n",
       "627  Sports And Games                             Icing (Aces Hockey #2)   \n",
       "\n",
       "      price     stock                                        description  \\\n",
       "0    £45.17  In stock  âWherever you go, whatever you do, just . . ...   \n",
       "1    £49.43  In stock  Acclaimed travel writer Rick Antonson sets his...   \n",
       "2    £48.87  In stock  To coincide with the 2016 centennial anniversa...   \n",
       "3    £36.94  In stock  With a new foreword by Tim Ferriss â¢Thereâ...   \n",
       "4    £37.33  In stock  A CLASSIC FROM THE BESTSELLING AUTHOR OF UNDER...   \n",
       "..      ...       ...                                                ...   \n",
       "623  £44.84  In stock  There is only one writer on the planet who pos...   \n",
       "624  £51.22  In stock  Return once again to the enduring account of l...   \n",
       "625  £24.42  In stock  Colt Avery is on fire. Dubbed one of the NFL's...   \n",
       "626  £44.91  In stock  From the USA TODAY Bestselling author of Scori...   \n",
       "627  £40.44  In stock  Hailed by Jami Davenport as her âgo-to autho...   \n",
       "\n",
       "                                  availability  \n",
       "0    \\nAvailability\\nIn stock (19 available)\\n  \n",
       "1    \\nAvailability\\nIn stock (15 available)\\n  \n",
       "2    \\nAvailability\\nIn stock (14 available)\\n  \n",
       "3     \\nAvailability\\nIn stock (8 available)\\n  \n",
       "4     \\nAvailability\\nIn stock (7 available)\\n  \n",
       "..                                         ...  \n",
       "623   \\nAvailability\\nIn stock (3 available)\\n  \n",
       "624   \\nAvailability\\nIn stock (3 available)\\n  \n",
       "625   \\nAvailability\\nIn stock (2 available)\\n  \n",
       "626   \\nAvailability\\nIn stock (1 available)\\n  \n",
       "627   \\nAvailability\\nIn stock (1 available)\\n  \n",
       "\n",
       "[628 rows x 6 columns]"
      ]
     },
     "execution_count": 112,
     "metadata": {},
     "output_type": "execute_result"
    }
   ],
   "source": [
    "df"
   ]
  },
  {
   "cell_type": "markdown",
   "metadata": {},
   "source": [
    "## Unknown Books"
   ]
  },
  {
   "cell_type": "code",
   "execution_count": 114,
   "metadata": {},
   "outputs": [],
   "source": [
    "n = 4\n",
    "for i in range(1, n+1):\n",
    "    url = f'https://books.toscrape.com/catalogue/category/books/add-a-comment_18/page-{i}.html'\n",
    "    automatization_process('Unknown', url, df)"
   ]
  },
  {
   "cell_type": "code",
   "execution_count": 115,
   "metadata": {},
   "outputs": [
    {
     "data": {
      "text/plain": [
       "67"
      ]
     },
     "execution_count": 115,
     "metadata": {},
     "output_type": "execute_result"
    }
   ],
   "source": [
    "len(df[df['gender'] == 'Unknown'])"
   ]
  },
  {
   "cell_type": "markdown",
   "metadata": {},
   "source": [
    "## Fantasy Books"
   ]
  },
  {
   "cell_type": "code",
   "execution_count": 116,
   "metadata": {},
   "outputs": [],
   "source": [
    "n = 3\n",
    "for i in range(1, n+1):\n",
    "    url = f'https://books.toscrape.com/catalogue/category/books/fantasy_19/page-{i}.html'\n",
    "    automatization_process('Fantasy', url, df)"
   ]
  },
  {
   "cell_type": "code",
   "execution_count": 117,
   "metadata": {},
   "outputs": [
    {
     "data": {
      "text/plain": [
       "48"
      ]
     },
     "execution_count": 117,
     "metadata": {},
     "output_type": "execute_result"
    }
   ],
   "source": [
    "len(df[df['gender'] == 'Fantasy'])"
   ]
  },
  {
   "cell_type": "markdown",
   "metadata": {},
   "source": [
    "## New Adult Books"
   ]
  },
  {
   "cell_type": "code",
   "execution_count": 118,
   "metadata": {},
   "outputs": [],
   "source": [
    "automatization_process('New Adult', 'https://books.toscrape.com/catalogue/category/books/new-adult_20/index.html', df)"
   ]
  },
  {
   "cell_type": "code",
   "execution_count": 119,
   "metadata": {},
   "outputs": [
    {
     "data": {
      "text/plain": [
       "6"
      ]
     },
     "execution_count": 119,
     "metadata": {},
     "output_type": "execute_result"
    }
   ],
   "source": [
    "len(df[df['gender'] == 'New Adult'])"
   ]
  },
  {
   "cell_type": "markdown",
   "metadata": {},
   "source": [
    "## Young Adult Books\n"
   ]
  },
  {
   "cell_type": "code",
   "execution_count": 120,
   "metadata": {},
   "outputs": [],
   "source": [
    "n = 3\n",
    "for i in range(1, n+1):\n",
    "    url = f'https://books.toscrape.com/catalogue/category/books/young-adult_21/page-{i}.html'\n",
    "    automatization_process('Young Adult', url, df)"
   ]
  },
  {
   "cell_type": "code",
   "execution_count": 121,
   "metadata": {},
   "outputs": [
    {
     "data": {
      "text/plain": [
       "54"
      ]
     },
     "execution_count": 121,
     "metadata": {},
     "output_type": "execute_result"
    }
   ],
   "source": [
    "len(df[df['gender'] == 'Young Adult'])"
   ]
  },
  {
   "cell_type": "markdown",
   "metadata": {},
   "source": [
    "## Science Books\n"
   ]
  },
  {
   "cell_type": "code",
   "execution_count": 122,
   "metadata": {},
   "outputs": [],
   "source": [
    "automatization_process('Science', 'https://books.toscrape.com/catalogue/category/books/science_22/index.html', df)"
   ]
  },
  {
   "cell_type": "code",
   "execution_count": 123,
   "metadata": {},
   "outputs": [
    {
     "data": {
      "text/plain": [
       "14"
      ]
     },
     "execution_count": 123,
     "metadata": {},
     "output_type": "execute_result"
    }
   ],
   "source": [
    "len(df[df['gender'] == 'Science'])"
   ]
  },
  {
   "cell_type": "markdown",
   "metadata": {},
   "source": [
    "## Poetry Books\n"
   ]
  },
  {
   "cell_type": "code",
   "execution_count": 124,
   "metadata": {},
   "outputs": [],
   "source": [
    "automatization_process('Poetry', 'https://books.toscrape.com/catalogue/category/books/poetry_23/index.html', df)"
   ]
  },
  {
   "cell_type": "code",
   "execution_count": 125,
   "metadata": {},
   "outputs": [
    {
     "data": {
      "text/plain": [
       "19"
      ]
     },
     "execution_count": 125,
     "metadata": {},
     "output_type": "execute_result"
    }
   ],
   "source": [
    "len(df[df['gender'] == 'Poetry'])"
   ]
  },
  {
   "cell_type": "markdown",
   "metadata": {},
   "source": [
    "## Paranormal Books\n"
   ]
  },
  {
   "cell_type": "code",
   "execution_count": 126,
   "metadata": {},
   "outputs": [],
   "source": [
    "automatization_process('Paranormal', 'https://books.toscrape.com/catalogue/category/books/paranormal_24/index.html', df)"
   ]
  },
  {
   "cell_type": "code",
   "execution_count": 127,
   "metadata": {},
   "outputs": [
    {
     "data": {
      "text/plain": [
       "1"
      ]
     },
     "execution_count": 127,
     "metadata": {},
     "output_type": "execute_result"
    }
   ],
   "source": [
    "len(df[df['gender'] == 'Paranormal'])"
   ]
  },
  {
   "cell_type": "markdown",
   "metadata": {},
   "source": [
    "## Art Books\n"
   ]
  },
  {
   "cell_type": "code",
   "execution_count": 128,
   "metadata": {},
   "outputs": [],
   "source": [
    "automatization_process('Art', 'https://books.toscrape.com/catalogue/category/books/art_25/index.html', df)"
   ]
  },
  {
   "cell_type": "markdown",
   "metadata": {},
   "source": [
    "## Psychology Books\n"
   ]
  },
  {
   "cell_type": "code",
   "execution_count": 129,
   "metadata": {},
   "outputs": [],
   "source": [
    "automatization_process('Psychology', 'https://books.toscrape.com/catalogue/category/books/psychology_26/index.html', df)"
   ]
  },
  {
   "cell_type": "code",
   "execution_count": 130,
   "metadata": {},
   "outputs": [
    {
     "data": {
      "text/plain": [
       "7"
      ]
     },
     "execution_count": 130,
     "metadata": {},
     "output_type": "execute_result"
    }
   ],
   "source": [
    "len(df[df['gender'] == 'Psychology'])"
   ]
  },
  {
   "cell_type": "markdown",
   "metadata": {},
   "source": [
    "## Autobiography Books"
   ]
  },
  {
   "cell_type": "code",
   "execution_count": 131,
   "metadata": {},
   "outputs": [],
   "source": [
    "automatization_process('Autobiography', 'https://books.toscrape.com/catalogue/category/books/autobiography_27/index.html', df)"
   ]
  },
  {
   "cell_type": "code",
   "execution_count": 132,
   "metadata": {},
   "outputs": [
    {
     "data": {
      "text/plain": [
       "9"
      ]
     },
     "execution_count": 132,
     "metadata": {},
     "output_type": "execute_result"
    }
   ],
   "source": [
    "len(df[df['gender'] == 'Autobiography'])"
   ]
  },
  {
   "cell_type": "markdown",
   "metadata": {},
   "source": [
    "## Parenting Books\n"
   ]
  },
  {
   "cell_type": "code",
   "execution_count": 133,
   "metadata": {},
   "outputs": [],
   "source": [
    "automatization_process('Parenting', 'https://books.toscrape.com/catalogue/category/books/parenting_28/index.html', df)"
   ]
  },
  {
   "cell_type": "code",
   "execution_count": 134,
   "metadata": {},
   "outputs": [
    {
     "data": {
      "text/plain": [
       "1"
      ]
     },
     "execution_count": 134,
     "metadata": {},
     "output_type": "execute_result"
    }
   ],
   "source": [
    "len(df[df['gender'] == 'Parenting'])"
   ]
  },
  {
   "cell_type": "markdown",
   "metadata": {},
   "source": [
    "## Adult Fiction Books\n"
   ]
  },
  {
   "cell_type": "code",
   "execution_count": 135,
   "metadata": {},
   "outputs": [],
   "source": [
    "automatization_process('Adult Fiction', 'https://books.toscrape.com/catalogue/category/books/adult-fiction_29/index.html', df)"
   ]
  },
  {
   "cell_type": "code",
   "execution_count": 136,
   "metadata": {},
   "outputs": [
    {
     "data": {
      "text/plain": [
       "1"
      ]
     },
     "execution_count": 136,
     "metadata": {},
     "output_type": "execute_result"
    }
   ],
   "source": [
    "len(df[df['gender'] == 'Adult Fiction'])"
   ]
  },
  {
   "cell_type": "markdown",
   "metadata": {},
   "source": [
    "## Humor Books\n"
   ]
  },
  {
   "cell_type": "code",
   "execution_count": 137,
   "metadata": {},
   "outputs": [],
   "source": [
    "automatization_process('Humor', 'https://books.toscrape.com/catalogue/category/books/humor_30/index.html', df)"
   ]
  },
  {
   "cell_type": "code",
   "execution_count": 138,
   "metadata": {},
   "outputs": [
    {
     "data": {
      "text/plain": [
       "10"
      ]
     },
     "execution_count": 138,
     "metadata": {},
     "output_type": "execute_result"
    }
   ],
   "source": [
    "len(df[df['gender'] == 'Humor'])"
   ]
  },
  {
   "cell_type": "markdown",
   "metadata": {},
   "source": [
    "## Horror Books\n"
   ]
  },
  {
   "cell_type": "code",
   "execution_count": 139,
   "metadata": {},
   "outputs": [],
   "source": [
    "automatization_process('Horror', 'https://books.toscrape.com/catalogue/category/books/horror_31/index.html', df)"
   ]
  },
  {
   "cell_type": "code",
   "execution_count": 140,
   "metadata": {},
   "outputs": [
    {
     "data": {
      "text/plain": [
       "17"
      ]
     },
     "execution_count": 140,
     "metadata": {},
     "output_type": "execute_result"
    }
   ],
   "source": [
    "len(df[df['gender'] == 'Horror'])"
   ]
  },
  {
   "cell_type": "markdown",
   "metadata": {},
   "source": [
    "## History\n"
   ]
  },
  {
   "cell_type": "code",
   "execution_count": 141,
   "metadata": {},
   "outputs": [],
   "source": [
    "automatization_process('History', 'https://books.toscrape.com/catalogue/category/books/history_32/index.html', df)"
   ]
  },
  {
   "cell_type": "code",
   "execution_count": 142,
   "metadata": {},
   "outputs": [
    {
     "data": {
      "text/plain": [
       "18"
      ]
     },
     "execution_count": 142,
     "metadata": {},
     "output_type": "execute_result"
    }
   ],
   "source": [
    "len(df[df['gender'] == 'History'])"
   ]
  },
  {
   "cell_type": "markdown",
   "metadata": {},
   "source": [
    "## Food and Drink Books\n"
   ]
  },
  {
   "cell_type": "code",
   "execution_count": 143,
   "metadata": {},
   "outputs": [],
   "source": [
    "n = 2\n",
    "for i in range(1, n+1):\n",
    "    url = f'https://books.toscrape.com/catalogue/category/books/food-and-drink_33/page-{i}.html'\n",
    "    automatization_process('Food And Drink', url, df)"
   ]
  },
  {
   "cell_type": "code",
   "execution_count": 144,
   "metadata": {},
   "outputs": [
    {
     "data": {
      "text/plain": [
       "30"
      ]
     },
     "execution_count": 144,
     "metadata": {},
     "output_type": "execute_result"
    }
   ],
   "source": [
    "len(df[df['gender'] == 'Food And Drink'])"
   ]
  },
  {
   "cell_type": "markdown",
   "metadata": {},
   "source": [
    "## Christian Fiction\n"
   ]
  },
  {
   "cell_type": "code",
   "execution_count": 145,
   "metadata": {},
   "outputs": [],
   "source": [
    "automatization_process('Christian', 'https://books.toscrape.com/catalogue/category/books/christian-fiction_34/index.html', df)"
   ]
  },
  {
   "cell_type": "code",
   "execution_count": 146,
   "metadata": {},
   "outputs": [
    {
     "data": {
      "text/plain": [
       "6"
      ]
     },
     "execution_count": 146,
     "metadata": {},
     "output_type": "execute_result"
    }
   ],
   "source": [
    "len(df[df['gender'] == 'Christian'])"
   ]
  },
  {
   "cell_type": "markdown",
   "metadata": {},
   "source": [
    "## Business Books\n"
   ]
  },
  {
   "cell_type": "code",
   "execution_count": 147,
   "metadata": {},
   "outputs": [],
   "source": [
    "automatization_process('Business', 'https://books.toscrape.com/catalogue/category/books/business_35/index.html', df)"
   ]
  },
  {
   "cell_type": "code",
   "execution_count": 148,
   "metadata": {},
   "outputs": [
    {
     "data": {
      "text/plain": [
       "12"
      ]
     },
     "execution_count": 148,
     "metadata": {},
     "output_type": "execute_result"
    }
   ],
   "source": [
    "len(df[df['gender'] == 'Business'])"
   ]
  },
  {
   "cell_type": "markdown",
   "metadata": {},
   "source": [
    "## Biography Books\n"
   ]
  },
  {
   "cell_type": "code",
   "execution_count": 149,
   "metadata": {},
   "outputs": [],
   "source": [
    "automatization_process('Biography', 'https://books.toscrape.com/catalogue/category/books/biography_36/index.html', df)"
   ]
  },
  {
   "cell_type": "code",
   "execution_count": 150,
   "metadata": {},
   "outputs": [
    {
     "data": {
      "text/plain": [
       "5"
      ]
     },
     "execution_count": 150,
     "metadata": {},
     "output_type": "execute_result"
    }
   ],
   "source": [
    "len(df[df['gender'] == 'Biography'])"
   ]
  },
  {
   "cell_type": "markdown",
   "metadata": {},
   "source": [
    "## Thriller Books\n"
   ]
  },
  {
   "cell_type": "code",
   "execution_count": 151,
   "metadata": {},
   "outputs": [],
   "source": [
    "automatization_process('Thriller', 'https://books.toscrape.com/catalogue/category/books/thriller_37/index.html', df)"
   ]
  },
  {
   "cell_type": "code",
   "execution_count": 152,
   "metadata": {},
   "outputs": [
    {
     "data": {
      "text/plain": [
       "11"
      ]
     },
     "execution_count": 152,
     "metadata": {},
     "output_type": "execute_result"
    }
   ],
   "source": [
    "len(df[df['gender'] == 'Thriller'])"
   ]
  },
  {
   "cell_type": "markdown",
   "metadata": {},
   "source": [
    "## Contemporary Books\n"
   ]
  },
  {
   "cell_type": "code",
   "execution_count": 153,
   "metadata": {},
   "outputs": [],
   "source": [
    "automatization_process('Contemporary', 'https://books.toscrape.com/catalogue/category/books/contemporary_38/index.html', df)"
   ]
  },
  {
   "cell_type": "code",
   "execution_count": 154,
   "metadata": {},
   "outputs": [
    {
     "data": {
      "text/plain": [
       "3"
      ]
     },
     "execution_count": 154,
     "metadata": {},
     "output_type": "execute_result"
    }
   ],
   "source": [
    "len(df[df['gender'] == 'Contemporary'])"
   ]
  },
  {
   "cell_type": "markdown",
   "metadata": {},
   "source": [
    "## Spirituality Books\n"
   ]
  },
  {
   "cell_type": "code",
   "execution_count": 155,
   "metadata": {},
   "outputs": [],
   "source": [
    "automatization_process('Spirituality', 'https://books.toscrape.com/catalogue/category/books/spirituality_39/index.html', df)"
   ]
  },
  {
   "cell_type": "code",
   "execution_count": 156,
   "metadata": {},
   "outputs": [
    {
     "data": {
      "text/plain": [
       "6"
      ]
     },
     "execution_count": 156,
     "metadata": {},
     "output_type": "execute_result"
    }
   ],
   "source": [
    "len(df[df['gender'] == 'Spirituality'])"
   ]
  },
  {
   "cell_type": "markdown",
   "metadata": {},
   "source": [
    "## Academic Books\n"
   ]
  },
  {
   "cell_type": "code",
   "execution_count": 157,
   "metadata": {},
   "outputs": [],
   "source": [
    "automatization_process('Academic', 'https://books.toscrape.com/catalogue/category/books/academic_40/index.html', df)"
   ]
  },
  {
   "cell_type": "code",
   "execution_count": 158,
   "metadata": {},
   "outputs": [
    {
     "data": {
      "text/plain": [
       "1"
      ]
     },
     "execution_count": 158,
     "metadata": {},
     "output_type": "execute_result"
    }
   ],
   "source": [
    "len(df[df['gender'] == 'Academic'])"
   ]
  },
  {
   "cell_type": "markdown",
   "metadata": {},
   "source": [
    "## Self Help Books\n"
   ]
  },
  {
   "cell_type": "code",
   "execution_count": 159,
   "metadata": {},
   "outputs": [],
   "source": [
    "automatization_process('Self Help', 'https://books.toscrape.com/catalogue/category/books/self-help_41/index.html', df)"
   ]
  },
  {
   "cell_type": "code",
   "execution_count": 160,
   "metadata": {},
   "outputs": [
    {
     "data": {
      "text/plain": [
       "5"
      ]
     },
     "execution_count": 160,
     "metadata": {},
     "output_type": "execute_result"
    }
   ],
   "source": [
    "len(df[df['gender'] == 'Self Help'])"
   ]
  },
  {
   "cell_type": "markdown",
   "metadata": {},
   "source": [
    "## Historical Books\n"
   ]
  },
  {
   "cell_type": "code",
   "execution_count": 161,
   "metadata": {},
   "outputs": [],
   "source": [
    "automatization_process('Historical', 'https://books.toscrape.com/catalogue/category/books/historical_42/index.html', df)"
   ]
  },
  {
   "cell_type": "code",
   "execution_count": 162,
   "metadata": {},
   "outputs": [
    {
     "data": {
      "text/plain": [
       "28"
      ]
     },
     "execution_count": 162,
     "metadata": {},
     "output_type": "execute_result"
    }
   ],
   "source": [
    "len(df[df['gender'] == 'Historical'])"
   ]
  },
  {
   "cell_type": "markdown",
   "metadata": {},
   "source": [
    "## Christian Books\n"
   ]
  },
  {
   "cell_type": "code",
   "execution_count": 163,
   "metadata": {},
   "outputs": [],
   "source": [
    "automatization_process('Christian', 'https://books.toscrape.com/catalogue/category/books/christian_43/index.html', df)"
   ]
  },
  {
   "cell_type": "markdown",
   "metadata": {},
   "source": [
    "## Suspense Books"
   ]
  },
  {
   "cell_type": "code",
   "execution_count": 164,
   "metadata": {},
   "outputs": [],
   "source": [
    "automatization_process('Suspense', 'https://books.toscrape.com/catalogue/category/books/suspense_44/index.html', df)"
   ]
  },
  {
   "cell_type": "markdown",
   "metadata": {},
   "source": [
    "## Short Stories Books\n"
   ]
  },
  {
   "cell_type": "code",
   "execution_count": 165,
   "metadata": {},
   "outputs": [],
   "source": [
    "automatization_process('Short Stories', 'https://books.toscrape.com/catalogue/category/books/short-stories_45/index.html', df)"
   ]
  },
  {
   "cell_type": "markdown",
   "metadata": {},
   "source": [
    "## Novels Books\n"
   ]
  },
  {
   "cell_type": "code",
   "execution_count": 166,
   "metadata": {},
   "outputs": [],
   "source": [
    "automatization_process('Novels', 'https://books.toscrape.com/catalogue/category/books/novels_46/index.html', df)"
   ]
  },
  {
   "cell_type": "markdown",
   "metadata": {},
   "source": [
    "## Health Books\n"
   ]
  },
  {
   "cell_type": "code",
   "execution_count": 167,
   "metadata": {},
   "outputs": [],
   "source": [
    "automatization_process('Health', 'https://books.toscrape.com/catalogue/category/books/health_47/index.html', df)"
   ]
  },
  {
   "cell_type": "markdown",
   "metadata": {},
   "source": [
    "## Politics Books"
   ]
  },
  {
   "cell_type": "code",
   "execution_count": 168,
   "metadata": {},
   "outputs": [],
   "source": [
    "automatization_process('Politics', 'https://books.toscrape.com/catalogue/category/books/politics_48/index.html', df)"
   ]
  },
  {
   "cell_type": "markdown",
   "metadata": {},
   "source": [
    "## Cultural Books\n"
   ]
  },
  {
   "cell_type": "code",
   "execution_count": 169,
   "metadata": {},
   "outputs": [],
   "source": [
    "automatization_process('Cultural', 'https://books.toscrape.com/catalogue/category/books/cultural_49/index.html', df)"
   ]
  },
  {
   "cell_type": "markdown",
   "metadata": {},
   "source": [
    "## Erotica Books\n"
   ]
  },
  {
   "cell_type": "code",
   "execution_count": 170,
   "metadata": {},
   "outputs": [],
   "source": [
    "automatization_process('Erotica', 'https://books.toscrape.com/catalogue/category/books/erotica_50/index.html', df)"
   ]
  },
  {
   "cell_type": "markdown",
   "metadata": {},
   "source": [
    "## Crime Books\n"
   ]
  },
  {
   "cell_type": "code",
   "execution_count": 171,
   "metadata": {},
   "outputs": [],
   "source": [
    "automatization_process('Crime', 'https://books.toscrape.com/catalogue/category/books/crime_51/index.html', df)"
   ]
  },
  {
   "cell_type": "code",
   "execution_count": 173,
   "metadata": {},
   "outputs": [
    {
     "data": {
      "text/html": [
       "<div>\n",
       "<style scoped>\n",
       "    .dataframe tbody tr th:only-of-type {\n",
       "        vertical-align: middle;\n",
       "    }\n",
       "\n",
       "    .dataframe tbody tr th {\n",
       "        vertical-align: top;\n",
       "    }\n",
       "\n",
       "    .dataframe thead th {\n",
       "        text-align: right;\n",
       "    }\n",
       "</style>\n",
       "<table border=\"1\" class=\"dataframe\">\n",
       "  <thead>\n",
       "    <tr style=\"text-align: right;\">\n",
       "      <th></th>\n",
       "      <th>gender</th>\n",
       "      <th>title</th>\n",
       "      <th>price</th>\n",
       "      <th>stock</th>\n",
       "      <th>description</th>\n",
       "      <th>availability</th>\n",
       "    </tr>\n",
       "  </thead>\n",
       "  <tbody>\n",
       "    <tr>\n",
       "      <th>0</th>\n",
       "      <td>Travel</td>\n",
       "      <td>It's Only the Himalayas</td>\n",
       "      <td>£45.17</td>\n",
       "      <td>In stock</td>\n",
       "      <td>âWherever you go, whatever you do, just . . ...</td>\n",
       "      <td>\\nAvailability\\nIn stock (19 available)\\n</td>\n",
       "    </tr>\n",
       "    <tr>\n",
       "      <th>1</th>\n",
       "      <td>Travel</td>\n",
       "      <td>Full Moon over Noahâs Ark: An Odyssey to Mou...</td>\n",
       "      <td>£49.43</td>\n",
       "      <td>In stock</td>\n",
       "      <td>Acclaimed travel writer Rick Antonson sets his...</td>\n",
       "      <td>\\nAvailability\\nIn stock (15 available)\\n</td>\n",
       "    </tr>\n",
       "    <tr>\n",
       "      <th>2</th>\n",
       "      <td>Travel</td>\n",
       "      <td>See America: A Celebration of Our National Par...</td>\n",
       "      <td>£48.87</td>\n",
       "      <td>In stock</td>\n",
       "      <td>To coincide with the 2016 centennial anniversa...</td>\n",
       "      <td>\\nAvailability\\nIn stock (14 available)\\n</td>\n",
       "    </tr>\n",
       "    <tr>\n",
       "      <th>3</th>\n",
       "      <td>Travel</td>\n",
       "      <td>Vagabonding: An Uncommon Guide to the Art of L...</td>\n",
       "      <td>£36.94</td>\n",
       "      <td>In stock</td>\n",
       "      <td>With a new foreword by Tim Ferriss â¢Thereâ...</td>\n",
       "      <td>\\nAvailability\\nIn stock (8 available)\\n</td>\n",
       "    </tr>\n",
       "    <tr>\n",
       "      <th>4</th>\n",
       "      <td>Travel</td>\n",
       "      <td>Under the Tuscan Sun</td>\n",
       "      <td>£37.33</td>\n",
       "      <td>In stock</td>\n",
       "      <td>A CLASSIC FROM THE BESTSELLING AUTHOR OF UNDER...</td>\n",
       "      <td>\\nAvailability\\nIn stock (7 available)\\n</td>\n",
       "    </tr>\n",
       "    <tr>\n",
       "      <th>...</th>\n",
       "      <td>...</td>\n",
       "      <td>...</td>\n",
       "      <td>...</td>\n",
       "      <td>...</td>\n",
       "      <td>...</td>\n",
       "      <td>...</td>\n",
       "    </tr>\n",
       "    <tr>\n",
       "      <th>1000</th>\n",
       "      <td>Politics</td>\n",
       "      <td>Why the Right Went Wrong: Conservatism--From G...</td>\n",
       "      <td>£52.65</td>\n",
       "      <td>In stock</td>\n",
       "      <td>âDionne's expertise is evident in this finel...</td>\n",
       "      <td>\\nAvailability\\nIn stock (14 available)\\n</td>\n",
       "    </tr>\n",
       "    <tr>\n",
       "      <th>1001</th>\n",
       "      <td>Politics</td>\n",
       "      <td>Equal Is Unfair: America's Misguided Fight Aga...</td>\n",
       "      <td>£56.86</td>\n",
       "      <td>In stock</td>\n",
       "      <td>Weâve all heard that the American Dream is v...</td>\n",
       "      <td>\\nAvailability\\nIn stock (12 available)\\n</td>\n",
       "    </tr>\n",
       "    <tr>\n",
       "      <th>1002</th>\n",
       "      <td>Cultural</td>\n",
       "      <td>Amid the Chaos</td>\n",
       "      <td>£36.58</td>\n",
       "      <td>In stock</td>\n",
       "      <td>Some people call Eritrea the âNorth Korea of...</td>\n",
       "      <td>\\nAvailability\\nIn stock (15 available)\\n</td>\n",
       "    </tr>\n",
       "    <tr>\n",
       "      <th>1003</th>\n",
       "      <td>Erotica</td>\n",
       "      <td>Dark Notes</td>\n",
       "      <td>£19.19</td>\n",
       "      <td>In stock</td>\n",
       "      <td>They call me a slut. Maybe I am.Sometimes I do...</td>\n",
       "      <td>\\nAvailability\\nIn stock (15 available)\\n</td>\n",
       "    </tr>\n",
       "    <tr>\n",
       "      <th>1004</th>\n",
       "      <td>Crime</td>\n",
       "      <td>The Long Shadow of Small Ghosts: Murder and Me...</td>\n",
       "      <td>£10.97</td>\n",
       "      <td>In stock</td>\n",
       "      <td>In Cold Blood meets Adrian Nicole LeBlancâs ...</td>\n",
       "      <td>\\nAvailability\\nIn stock (15 available)\\n</td>\n",
       "    </tr>\n",
       "  </tbody>\n",
       "</table>\n",
       "<p>1005 rows × 6 columns</p>\n",
       "</div>"
      ],
      "text/plain": [
       "        gender                                              title   price  \\\n",
       "0       Travel                            It's Only the Himalayas  £45.17   \n",
       "1       Travel  Full Moon over Noahâs Ark: An Odyssey to Mou...  £49.43   \n",
       "2       Travel  See America: A Celebration of Our National Par...  £48.87   \n",
       "3       Travel  Vagabonding: An Uncommon Guide to the Art of L...  £36.94   \n",
       "4       Travel                               Under the Tuscan Sun  £37.33   \n",
       "...        ...                                                ...     ...   \n",
       "1000  Politics  Why the Right Went Wrong: Conservatism--From G...  £52.65   \n",
       "1001  Politics  Equal Is Unfair: America's Misguided Fight Aga...  £56.86   \n",
       "1002  Cultural                                     Amid the Chaos  £36.58   \n",
       "1003   Erotica                                         Dark Notes  £19.19   \n",
       "1004     Crime  The Long Shadow of Small Ghosts: Murder and Me...  £10.97   \n",
       "\n",
       "         stock                                        description  \\\n",
       "0     In stock  âWherever you go, whatever you do, just . . ...   \n",
       "1     In stock  Acclaimed travel writer Rick Antonson sets his...   \n",
       "2     In stock  To coincide with the 2016 centennial anniversa...   \n",
       "3     In stock  With a new foreword by Tim Ferriss â¢Thereâ...   \n",
       "4     In stock  A CLASSIC FROM THE BESTSELLING AUTHOR OF UNDER...   \n",
       "...        ...                                                ...   \n",
       "1000  In stock  âDionne's expertise is evident in this finel...   \n",
       "1001  In stock  Weâve all heard that the American Dream is v...   \n",
       "1002  In stock  Some people call Eritrea the âNorth Korea of...   \n",
       "1003  In stock  They call me a slut. Maybe I am.Sometimes I do...   \n",
       "1004  In stock  In Cold Blood meets Adrian Nicole LeBlancâs ...   \n",
       "\n",
       "                                   availability  \n",
       "0     \\nAvailability\\nIn stock (19 available)\\n  \n",
       "1     \\nAvailability\\nIn stock (15 available)\\n  \n",
       "2     \\nAvailability\\nIn stock (14 available)\\n  \n",
       "3      \\nAvailability\\nIn stock (8 available)\\n  \n",
       "4      \\nAvailability\\nIn stock (7 available)\\n  \n",
       "...                                         ...  \n",
       "1000  \\nAvailability\\nIn stock (14 available)\\n  \n",
       "1001  \\nAvailability\\nIn stock (12 available)\\n  \n",
       "1002  \\nAvailability\\nIn stock (15 available)\\n  \n",
       "1003  \\nAvailability\\nIn stock (15 available)\\n  \n",
       "1004  \\nAvailability\\nIn stock (15 available)\\n  \n",
       "\n",
       "[1005 rows x 6 columns]"
      ]
     },
     "execution_count": 173,
     "metadata": {},
     "output_type": "execute_result"
    }
   ],
   "source": [
    "df"
   ]
  },
  {
   "cell_type": "code",
   "execution_count": 174,
   "metadata": {},
   "outputs": [],
   "source": [
    "df.to_csv('books.csv')"
   ]
  },
  {
   "cell_type": "code",
   "execution_count": null,
   "metadata": {},
   "outputs": [],
   "source": []
  }
 ],
 "metadata": {
  "kernelspec": {
   "display_name": "Python 3",
   "language": "python",
   "name": "python3"
  },
  "language_info": {
   "codemirror_mode": {
    "name": "ipython",
    "version": 3
   },
   "file_extension": ".py",
   "mimetype": "text/x-python",
   "name": "python",
   "nbconvert_exporter": "python",
   "pygments_lexer": "ipython3",
   "version": "3.11.3"
  }
 },
 "nbformat": 4,
 "nbformat_minor": 2
}
